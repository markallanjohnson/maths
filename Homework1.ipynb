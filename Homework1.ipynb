{
  "cells": [
    {
      "cell_type": "markdown",
      "metadata": {
        "id": "view-in-github",
        "colab_type": "text"
      },
      "source": [
        "<a href=\"https://colab.research.google.com/github/markallanjohnson/maths/blob/main/Homework1.ipynb\" target=\"_parent\"><img src=\"https://colab.research.google.com/assets/colab-badge.svg\" alt=\"Open In Colab\"/></a>"
      ]
    },
    {
      "cell_type": "markdown",
      "metadata": {
        "id": "TLH2NCL-V8J_"
      },
      "source": [
        "# Homework 1: Due Wednesday, August 28 at 11:00 AM\n",
        "\n",
        "---"
      ]
    },
    {
      "cell_type": "markdown",
      "source": [
        "## <a name=\"Inst\">Instructions:</a>\n",
        "---\n",
        "\n",
        "**Upload your completed assignment into Canvas as a Google Colab (or Jupyter) Notebook with file extension `.ipynb`.**\n",
        "\n",
        "Upload your file into the Homework 1 assignment in Canvas before <font color=\"dodgerblue\">**11AM on Wednesday, August 28.**</font>\n",
        "\n",
        "**You must provide supporting work for your all of your answers.**\n",
        "\n",
        "\n",
        "\n",
        "  - <font color=\"dodgerblue\">That work will include using Python code cells.</font>\n",
        "    - **Feel free to insert as much Python code as you like.**\n",
        "    - You must interpret or explain how the output of a code cell is being utilized to solve the problem.\n",
        "    - **Code with incomplete or missing explanations of why the output is useful may not receive full credit.**\n",
        "  - <font color=\"dodgerblue\">Your work will also involve writing explanations and justifications in text cells.</font>\n",
        "    - **Be sure to type/write out the steps of your work/explanation so I can see how you arrived at your answer.**\n",
        "  - <font color=\"dodgerblue\">Your work in some parts  may involve doing algebra and/or calculus.</font>\n",
        "    - Either type your work in the space below using LaTeX for mathematical equations.\n",
        "      - Here's a helpful [Quick Reference Guide for LaTeX](https://colab.research.google.com/drive/1voDDmLfHmRWzWQW5yiHfqYsjGPFqdovP?usp=sharing).\n",
        "      - Here's a helpful [LaTeX math symbol gallery](https://artofproblemsolving.com/wiki/index.php/LaTeX:Symbols).\n",
        "      - **Learning LaTeX is super useful and might even be enjoyable!**\n",
        "    - Or you can write your work on paper/tablet, take a picture of your work, and then insert an image of your work.\n",
        "    - Or you can Write your work on paper/tablet and submit to me separately when the assignment is due.\n",
        "   \n",
        "\n",
        "## Important Academic Policies:\n",
        "---\n",
        "\n",
        "- **Be your own work.** Though you may collaborate with others, everyone is responsible for writing up the work in their own way using their own methods. Plagiarism of any form is not tolerated.\n",
        "- **Be complete.** You must provide all work and/or explanations needed to find the solution. Answers with insufficient or incomplete supporting work may lose credit.\n",
        "- **Adhere to the Code of Academic Honesty.**\n",
        "- **Be clearly written (and legible if written).** Your solution to a problem must be clear, written in complete sentences. You may lose credit for work that is unclear or hard to follow.\n",
        "\n",
        "## <font color=\"dodgerblue\">Let me know if you need help, and **GOOD LUCK!!!**</font>\n",
        "\n",
        "----"
      ],
      "metadata": {
        "id": "RZn_p3cGStM_"
      }
    },
    {
      "cell_type": "markdown",
      "source": [
        "## <a name=\"save\">Saving Your Work to a Colab Notebook</a>\n",
        "\n",
        "---\n",
        "\n",
        "This notebook is a shared Colab notebook available for anyone to view. However, since everyone is sharing this notebook, you do not have permission to save changes to this shared Colab notebook. In order to save your work:\n",
        "\n",
        "1. You will need to set up a free Google Drive account. If you already have a Google Drive account, you are ready to go!\n",
        "2. Click the `Copy to Drive` button to the right of the `+ Code` and `+ Text` buttons on top of the notebook.\n",
        "3. Select from the menu `File/Save a Copy in Drive`.\n",
        "  - By default, the notebook will be saved in a folder named **Colab Notebooks** in your Drive.\n",
        "  - Feel free to rename and store the notebook wherever you like.\n"
      ],
      "metadata": {
        "id": "XQYAZYMYHani"
      }
    },
    {
      "cell_type": "markdown",
      "source": [
        "# <a name=\"quest0\">Question 0</a>\n",
        "\n",
        "---\n",
        "\n",
        "I need to know the email address associated with your Google account in order to return your work with grading comments. Please type the email address linked with your Google account in the space below.\n",
        "\n",
        "<br>\n",
        "\n",
        "## Enter Your Google Linked Email Below\n",
        "\n",
        "---\n",
        "\n",
        "<br>  \n",
        "\n",
        "\n",
        "Email:\n",
        "\n",
        "<br>  \n",
        "<br>  \n"
      ],
      "metadata": {
        "id": "HgcC8uNpVdVJ"
      }
    },
    {
      "cell_type": "markdown",
      "metadata": {
        "id": "cAtEeNV3WfOo"
      },
      "source": [
        "# <a name=\"HW1quest1\">Question 1:</a>\n",
        "---\n",
        "\n",
        "(See Introduction Section 0.2 of the Reading)\n",
        "\n",
        "For each differential equation:\n",
        "\n",
        "- Classify each as either an ordinary differential equation (ODE) or partial differential equation (PDE).\n",
        "- Give the order of the differential equation.\n",
        "-  Indicate which variable(s) is/are the independent variable(s) and which is the dependent variable.\n",
        "-  Indicate whether the differential equation is linear or nonlinear.\n",
        "\n",
        "You do not need to provide justification for your answers, but be sure you address each of the four points listed above.\n"
      ]
    },
    {
      "cell_type": "markdown",
      "metadata": {
        "id": "NrZW-GDxXhil"
      },
      "source": [
        "## <a name=\"HW1quest1a\">Question 1a:</a>\n",
        "----\n",
        "\n",
        "a.  $\\displaystyle \\frac{d^3y}{dt^3} = \\sin{(t+y)}$\n",
        "\n"
      ]
    },
    {
      "cell_type": "markdown",
      "metadata": {
        "id": "y8swNX-4XaNy"
      },
      "source": [
        "### Solution to Question 1a:\n",
        "----\n",
        "\n",
        "\n",
        "\n",
        "\n",
        "\n",
        "<br><br><br><br>\n",
        "\n",
        "\n"
      ]
    },
    {
      "cell_type": "markdown",
      "metadata": {
        "id": "TuJqAXJwXYMv"
      },
      "source": [
        "## <a name=\"HW1quest1b\">Question 1b:</a>\n",
        "---\n",
        "\n",
        "b. $\\displaystyle \\frac{d^4w}{dq^4} - q \\frac{d^2w}{dq^2} + 2w = 1$\n",
        "\n"
      ]
    },
    {
      "cell_type": "markdown",
      "metadata": {
        "id": "QIaPd9PJYW2c"
      },
      "source": [
        "\n",
        "### Solution to Question 1b:\n",
        "----\n",
        "\n",
        "\n",
        "\n",
        "\n",
        "\n",
        "<br><br><br><br>\n"
      ]
    },
    {
      "cell_type": "markdown",
      "metadata": {
        "id": "dDSaHh8rYYJM"
      },
      "source": [
        "\n",
        "## <a name=\"HW1quest1c\">Question 1c:</a>\n",
        "---\n",
        "\n",
        "d. $\\displaystyle t^4x'' + t^5x' + 4x = e^t$\n"
      ]
    },
    {
      "cell_type": "markdown",
      "metadata": {
        "id": "Lnv7kwVDYZH8"
      },
      "source": [
        "\n",
        "### Solution to Question 1c:\n",
        "----\n",
        "\n",
        "\n",
        "\n",
        "\n",
        "\n",
        "<br><br><br><br>\n",
        "\n"
      ]
    },
    {
      "cell_type": "markdown",
      "metadata": {
        "id": "xDyp5cVYYT8d"
      },
      "source": [
        "## <a name=\"HW1quest1d\">Question 1d:</a>\n",
        "---\n",
        "\n",
        "d. $\\displaystyle \\frac{\\partial^2 \\phi}{\\partial x^2} = -ic \\frac{\\partial \\phi}{\\partial t}$\n",
        "\n",
        "\n"
      ]
    },
    {
      "cell_type": "markdown",
      "metadata": {
        "id": "lmld2wOcYhsF"
      },
      "source": [
        "\n",
        "### Solution to Question 1d:\n",
        "----\n",
        "\n",
        "\n",
        "\n",
        "\n",
        "\n",
        "<br><br><br><br>\n"
      ]
    },
    {
      "cell_type": "markdown",
      "source": [
        "# <a name=\"HW1quest2\">Question 2:</a>\n",
        "---\n",
        "\n",
        "Determine whether $x=2\\cos{(t)} - 3 \\sin{(t)}$ is a solution to the differential equation $x''+x=0$. Be sure to provide supporting work.\n",
        "\n",
        "<br>\n",
        "\n",
        "*Check this by \"hand\" using calculus. Using Python is not an option for this question but will be for others.*\n",
        "\n"
      ],
      "metadata": {
        "id": "enZeWUPK_bAz"
      }
    },
    {
      "cell_type": "markdown",
      "source": [
        "## Solution to Question 2:\n",
        "----\n",
        "\n",
        "\n",
        "\n",
        "\n",
        "\n",
        "\n",
        "<br>  \n",
        "<br>  \n",
        "<br>  "
      ],
      "metadata": {
        "id": "ntO1wGA7_bBB"
      }
    },
    {
      "cell_type": "markdown",
      "metadata": {
        "id": "s5YN1RqFZy1_"
      },
      "source": [
        "# <a name=\"HW1quest3\">Question 3:</a>\n",
        "---\n",
        "\n",
        "Determine whether $x=\\cos{(2t)}$ a solution to the differential equation $\\displaystyle \\frac{dx}{dt}+tx=\\sin{(2t)}$. Be sure to provide supporting work.\n",
        "\n",
        "<br>\n",
        "\n",
        "*You can do this \"by hand\" using calculus, and you do not need to use Python. If you would like to use Python as well, use the code cell below. You are not required to use the code cell below the solution space if you do not want to use Python!*\n",
        "\n",
        "### Python Hint\n",
        "---\n",
        "\n",
        "If you would like to use Python to help check and don't recall how to take derivatives with SymPy, see [01-What-is-a-Differential-Equation.ipynb](https://githubtocolab.com/CU-Denver-MathStats-OER/ODEs/blob/main/Chp1/01-What-is-a-Differential-Equation.ipynb#01sympy)\n",
        "\n",
        "- I have included a code cell below that imports SymPy (you may already have imported it).\n",
        "- Defines `x` and `t` as variables.\n",
        "- <font color=\"mediumseagreen\">Tip: To enter special functions such as $\\cos{t}$, $\\sin{t}$, or $e^{x}$ with SymPy using the `sym` abbreviation, enter:</font>\n",
        "  - `sym.sin(t)` or `sym.cos(t)` or `sym.exp(x)`\n"
      ]
    },
    {
      "cell_type": "markdown",
      "source": [
        "## Solution to Question 3:\n",
        "----\n",
        "\n",
        "<br><br><br><br>"
      ],
      "metadata": {
        "id": "1QEE03g4_0xS"
      }
    },
    {
      "cell_type": "code",
      "source": [
        "# if you would like to experiment with Python\n",
        "# here is some code to get you going\n",
        "import sympy as sym\n",
        "x, t = sym.symbols('x t')\n",
        "\n",
        "# Tip: use sym.cos(2 * t)"
      ],
      "metadata": {
        "id": "5-vcmOPeaR3u"
      },
      "execution_count": null,
      "outputs": []
    },
    {
      "cell_type": "markdown",
      "metadata": {
        "id": "grktTrp2YrnQ"
      },
      "source": [
        "# <a name=\"HW1quest4\">Question 4:</a>\n",
        "---\n",
        "\n",
        "Show that $z=t^2 - \\dfrac{1}{t}$ is a solution to $\\displaystyle t^2z''=2z$ on the interval $t >0$.\n",
        "\n",
        "\n",
        "<br>\n",
        "\n",
        "*You can do this \"by hand\" using calculus, and you do not need to use Python. If you would like to use Python as well, use the code cell below. You are not required to use the code cell below the solution space if you do not want to use Python!*"
      ]
    },
    {
      "cell_type": "markdown",
      "source": [
        "## Solution to Question 4:\n",
        "----\n",
        "\n",
        "<br><br><br><br>"
      ],
      "metadata": {
        "id": "Lyp9n2ImaIMT"
      }
    },
    {
      "cell_type": "code",
      "source": [
        "# if you would like to experiment with Python\n",
        "# here is some code to get you going\n",
        "import sympy as sym\n",
        "z, t = sym.symbols('z t')\n",
        "\n"
      ],
      "metadata": {
        "id": "a0sCsGorA3k2"
      },
      "execution_count": null,
      "outputs": []
    },
    {
      "cell_type": "markdown",
      "metadata": {
        "id": "sScmZ3xQZATk"
      },
      "source": [
        "# <a name=\"HW1quest5\">Question 5:</a>\n",
        "---\n",
        "\n",
        "Determine whether $x^2 + y^3-e^y=1$ is an implicit solution to $\\displaystyle \\frac{dy}{dx} = -\\frac{e^y-2x}{3y^2}$.\n",
        "\n",
        "<br>  \n",
        "\n",
        "> Tip 1: It is great to brush up on your implicit differentiation since build fluency with those skills helps you learn and be more efficient.\n",
        "\n",
        "> Tip 2: Might as well learn some Python while we work with differential equations. Python is a great tool for checking your work, identifying any errors, and correcting errors. That is the best way to learn!\n",
        "\n",
        "> Tip 3: You do not *need* to solve the question both using calculus and using Python. I'm recommending to use both methods to help maximize your learning and growth!\n",
        "\n",
        "The SymPy package has an `sympy.idff()` function that works great!\n",
        "- Here's a link to some [similar solved examples](https://aaronschlegel.me/implicit-differentiation.html) using `sympy.idiff()`.\n",
        "- Don't be afraid to experiment with Python!"
      ]
    },
    {
      "cell_type": "markdown",
      "source": [
        "## Solution to Question 5:\n",
        "---\n",
        "\n",
        "<br><br><br><br>"
      ],
      "metadata": {
        "id": "OTMJoBwxBNi9"
      }
    },
    {
      "cell_type": "code",
      "source": [
        "# if you would like to experiment with Python\n",
        "# here is some code to get you going\n",
        "import sympy as sym\n",
        "x, y = sym.symbols('x y')\n",
        "sym.idiff(??, ??, ??)"
      ],
      "metadata": {
        "id": "xuZsx3bAWwba"
      },
      "execution_count": null,
      "outputs": []
    },
    {
      "cell_type": "markdown",
      "metadata": {
        "id": "MauARV1Oajmq"
      },
      "source": [
        "# <a name=\"HW1quest6\">Question 6:</a>\n",
        "---\n",
        "\n",
        "Determine for which values of $m$ the function $y=x^m$ is a solution to\n",
        "\n",
        "$$x^2 \\frac{d^2y}{dx^2} - 8x \\frac{dy}{dx} + 14y =0 .$$\n",
        "\n",
        "*You can do this \"by hand\" using calculus/algebra, and you do not need to use Python. You can use Python if you like. Add code cells if needed!*"
      ]
    },
    {
      "cell_type": "markdown",
      "metadata": {
        "id": "N9eRMlbcauxI"
      },
      "source": [
        "## Solution to Question 6:\n",
        "----\n",
        "\n",
        "<br><br><br><br>"
      ]
    },
    {
      "cell_type": "markdown",
      "metadata": {
        "id": "sAQaJDKsax7J"
      },
      "source": [
        "# <a name=\"HW1quest7\">Question 7:</a>\n",
        "---\n",
        "\n",
        "Consider the differential equation  $y'' +4 y'-45y=0$ and answer the questions below.\n",
        "\n",
        "<br>\n",
        "\n",
        "a. Verify the function $y=C_1e^{5x} +C_2e^{-9x}$ is a solution to the differential equation above.\n",
        "\n",
        "<br>\n",
        "\n",
        "b. Determine $C_1$ and $C_2$ so that the initial conditions $y(0)=3$ and $y'(0)=2$ are satisfied.\n",
        "\n",
        "\n",
        "<font color=\"dodgerblue\">**Be sure to provide complete work/explanation to support how you determined your answers in parts 7a and 7b.** <font color=\"dodgerblue\">"
      ]
    },
    {
      "cell_type": "markdown",
      "metadata": {
        "id": "QbTW5xcxbBpE"
      },
      "source": [
        "## Solution to Question 7:\n",
        "----\n",
        "\n",
        "### Part 7a:\n",
        "---\n",
        "\n",
        "<br><br><br><br>\n",
        "\n",
        "### Part 7b:\n",
        "---\n",
        "\n",
        "<br><br><br><br>"
      ]
    },
    {
      "cell_type": "markdown",
      "source": [
        "# <a name=\"HW1Import\">Loading Python Modules</a>\n",
        "\n",
        "---\n",
        "\n",
        "In Questions [8](#HW1quest8) and [9](#HW1quest9) and you will need to use the `slope_field()` and `plot_sol()` that we used in class.\n",
        "\n",
        "If you would like to use `slope_field` and `plot_sol` function while working on your assignment, each time you start a new session, you will need to run the two code cells below.\n",
        "\n",
        "- Run the first code cell  to load the most up to date modules stored in GitHub.\n",
        "  - This may take about 15 seconds.\n",
        "  - The output is not useful so it is cleared.\n",
        "- Run the second code cell to import the `slope_field()` and `plot_sol()` functions from the module named `ode_tools.py`.\n"
      ],
      "metadata": {
        "id": "ihHcNZL5To6d"
      }
    },
    {
      "cell_type": "code",
      "execution_count": null,
      "metadata": {
        "id": "xkvhkB8ABpEl"
      },
      "outputs": [],
      "source": [
        "# load ode_tools module from github\n",
        "\n",
        "!pip install git+https://github.com/CU-Denver-MathStats-OER/ODEs\n",
        "from IPython.display import clear_output\n",
        "clear_output()"
      ]
    },
    {
      "cell_type": "code",
      "execution_count": null,
      "metadata": {
        "id": "Je50AY_uUa2H"
      },
      "outputs": [],
      "source": [
        "# import plotting functions\n",
        "# if your session times out, you will need to import again\n",
        "\n",
        "from utils.ode_tools import slope_field\n",
        "from utils.ode_tools import plot_sol"
      ]
    },
    {
      "cell_type": "markdown",
      "source": [
        "## Help with ODE Plotting Functions\n",
        "\n",
        "---\n",
        "\n",
        "- Recall we introduced the `slope_field` and `plot_sol` functions in [Lab 02 Slope Fields](https://githubtocolab.com/CU-Denver-MathStats-OER/ODEs/blob/main/Chp1/02-Slope-Fields.ipynb).\n",
        "- See [ODE Tools Tutorial](https://githubtocolab.com/CU-Denver-MathStats-OER/ODEs/blob/main/Chp1/ODE-Tools-Tutorial.ipynb) for a quick reference on how to use `slope_field()`, `plot_sol()`, and other functions for Chapter 1."
      ],
      "metadata": {
        "id": "fWylFErpU8ie"
      }
    },
    {
      "cell_type": "markdown",
      "metadata": {
        "id": "2nJMynvZfX8d"
      },
      "source": [
        "# <a name=\"HW1quest8\">Question 8:</a>\n",
        "---\n",
        "\n",
        "Consider the differential equation $\\displaystyle \\frac{dy}{dx}=-\\frac{y}{2} - x $ and answer the questions below."
      ]
    },
    {
      "cell_type": "markdown",
      "metadata": {
        "id": "7fPu7RXwfxy2"
      },
      "source": [
        "## <a name=\"HW1quest8a\">Question 8a:</a>\n",
        "---\n",
        "\n",
        "Complete the code cell below to plot a slope field of the differential equation."
      ]
    },
    {
      "cell_type": "markdown",
      "metadata": {
        "id": "NKdGNR0SgCgB"
      },
      "source": [
        "### Solution to Question 8a:\n",
        "---\n",
        "\n",
        "<mark>Edit the code cell below</mark>"
      ]
    },
    {
      "cell_type": "code",
      "execution_count": null,
      "metadata": {
        "id": "P42qXi41gKhf"
      },
      "outputs": [],
      "source": [
        "import numpy as np\n",
        "\n",
        "# Define points where vectors will be plotted\n",
        "x = np.linspace(-6, 6, 13)\n",
        "y = np.linspace(-6, 6, 13)\n",
        "\n",
        "###########################################\n",
        "# STUDENT TO DO:\n",
        "# Replace the ?? in the code below\n",
        "# with an appropriate expression\n",
        "# Then run the code to get a slope field\n",
        "###########################################\n",
        "\n",
        "# Define the differential equation\n",
        "def diffeq(x, y):  # x is independent variable and y is dependent variable\n",
        "    return ??  # enter the formula for dy/dx\n",
        "\n",
        "# Run the slope field plotter\n",
        "slope_field(x, y, diffeq)"
      ]
    },
    {
      "cell_type": "markdown",
      "metadata": {
        "id": "3hM0RQkHgips"
      },
      "source": [
        "## <a name=\"HW1quest8b\">Question 8b:</a>\n",
        "---\n",
        "\n",
        "If you did not know the formula, and only were looking at the slope field:\n",
        "\n",
        "Explain how can you tell from the slope field that the formula for differential equation must depend on $x$."
      ]
    },
    {
      "cell_type": "markdown",
      "metadata": {
        "id": "Ru1GCzzGg0lb"
      },
      "source": [
        "### Solution to Question 8b:\n",
        "---\n",
        "\n",
        "<br><br><br><br>\n"
      ]
    },
    {
      "cell_type": "markdown",
      "metadata": {
        "id": "Wgi39lQHg6Ps"
      },
      "source": [
        "## <a name=\"HW1quest8c\">Question 8c:</a>\n",
        "---\n",
        "\n",
        "If you did not know the formula, and only were looking at the slope field:\n",
        "\n",
        "Explain how can you tell from the slope field that the formula for differential equation must depend on $y$."
      ]
    },
    {
      "cell_type": "markdown",
      "metadata": {
        "id": "h5mP3VT8g-mk"
      },
      "source": [
        "### Solution to Question 8c:\n",
        "---\n",
        "\n",
        "<br><br><br><br>\n"
      ]
    },
    {
      "cell_type": "markdown",
      "metadata": {
        "id": "Cj-No92thF-9"
      },
      "source": [
        "## <a name=\"HW1quest8d\">Question 8d:</a>\n",
        "---\n",
        "\n",
        "Complete the code cell below to add a plot for the solution to the differential equation in [Question 8](#HW1quest8) through the point $(0,4)$ in the slope field."
      ]
    },
    {
      "cell_type": "markdown",
      "metadata": {
        "id": "NpbxWkp6hF--"
      },
      "source": [
        "### Solution to Question 8d:\n",
        "---\n",
        "\n",
        "<mark>Edit the code cell below</mark>"
      ]
    },
    {
      "cell_type": "code",
      "execution_count": null,
      "metadata": {
        "id": "Zk3pvIwehF--"
      },
      "outputs": [],
      "source": [
        "###########################################\n",
        "# Be sure you have answered Question 8a\n",
        "# And run the code cell to import numpy\n",
        "# And have already defined x, y, diffeq\n",
        "##########################################\n",
        "\n",
        "# Enter x0, the initial value of x\n",
        "# Enter y0, the value of y at y0\n",
        "x0 = ??\n",
        "y0 = ??\n",
        "\n",
        "# Run the function to create a plot\n",
        "plot_sol(x, y, diffeq, x0, y0)"
      ]
    },
    {
      "cell_type": "markdown",
      "metadata": {
        "id": "Px70Gi4OivPY"
      },
      "source": [
        "## <a name=\"HW1quest8e\">Question 8e:</a>\n",
        "----\n",
        "\n",
        "Based on your previous answer, find a possible formula for the solution that passes through $(0,4)$.\n",
        "\n",
        "- Look at the graph that was plotted in [8d](HW1quest8d).\n",
        "- Then based on the shape and some points on the graph, you can find a good approximation for the formula of the solution based on its graph.\n",
        "- Show your work to support how you found your formula."
      ]
    },
    {
      "cell_type": "markdown",
      "metadata": {
        "id": "bkhEETlojOye"
      },
      "source": [
        "### Solution to Question 8e:\n",
        "---\n",
        "\n",
        "<br><br><br><br>\n"
      ]
    },
    {
      "cell_type": "markdown",
      "metadata": {
        "id": "nV1VMMZkxr2K"
      },
      "source": [
        "## <a name=\"HW1quest8f\">Question 8f:</a>\n",
        "---\n",
        "\n",
        "Is the formula you found in [8e](#HW1quest8e) a solution to the original differential equation in [Question 8](#HW1quest8)? **Show supporting work to justify your answer.**\n",
        "\n",
        "*It is fine if your approximation in [8e](#HW1quest8e) is not a solution. I am looking to make sure you know to check whether or not it is a solution correctly.*"
      ]
    },
    {
      "cell_type": "markdown",
      "metadata": {
        "id": "ykNiKx1hy9gw"
      },
      "source": [
        "### Solution to Question 8f:\n",
        "---\n",
        "\n",
        "<br><br><br><br>\n"
      ]
    },
    {
      "cell_type": "markdown",
      "metadata": {
        "id": "NmoDznQyjYXD"
      },
      "source": [
        "## <a name=\"HW1quest8g\">Question 8g:</a>\n",
        "---\n",
        "\n",
        "Complete the code cell below to add a plot for the solution to the differential equation in [Question 8](#HW1quest8) through the point $(-4,1)$ in the slope field."
      ]
    },
    {
      "cell_type": "markdown",
      "metadata": {
        "id": "qMdb56lKjYXD"
      },
      "source": [
        "### Solution to Question 8g:\n",
        "---\n",
        "\n",
        "<mark>Edit the code cell below</mark>"
      ]
    },
    {
      "cell_type": "code",
      "execution_count": null,
      "metadata": {
        "id": "t8IQ-5j5jYXE"
      },
      "outputs": [],
      "source": [
        "###########################################\n",
        "# Be sure you have answered Question 8a\n",
        "# And run the code cell to import numpy\n",
        "# And have already defined x, y, diffeq\n",
        "##########################################\n",
        "\n",
        "# Enter x0, the initial value of x\n",
        "# Enter y0, the value of y at x0\n",
        "x0 = ??\n",
        "y0 = ??\n",
        "\n",
        "# Run the function to create a plot\n",
        "plot_sol(x, y, diffeq, x0, y0)"
      ]
    },
    {
      "cell_type": "markdown",
      "metadata": {
        "id": "dNMpLLdpjYXF"
      },
      "source": [
        "## <a name=\"HW1quest8h\">Question 8h: </a>\n",
        "----\n",
        "\n",
        "What can you say about the solution plotted in [8g](#HW1quest8g) as $x \\to \\infty$?\n",
        "\n",
        "How about as $x \\to -\\infty$\n",
        "\n",
        "Refer to your solution plotted in [8g](#HW1quest8g) to support your conclusions."
      ]
    },
    {
      "cell_type": "markdown",
      "metadata": {
        "id": "SXYZ6ujujYXF"
      },
      "source": [
        "### Solution to Question 8h:\n",
        "---\n",
        "\n",
        "<br><br><br><br>\n"
      ]
    },
    {
      "cell_type": "markdown",
      "metadata": {
        "id": "li2m4qeW41j2"
      },
      "source": [
        "# <a name=\"HW1quest9\">Question 9:</a>\n",
        "---\n",
        "\n",
        "Let $p$ denote the population (in thousands) of a species $t$ years after 2010. The logistic equation can by used to model the rate of change of the population and is given below:\n",
        "\n",
        "$$ \\frac{dp}{dt}= 2p-p^2.$$\n",
        "\n",
        "Use this model to answer the questions below.\n"
      ]
    },
    {
      "cell_type": "markdown",
      "metadata": {
        "id": "naujs6TL5H-A"
      },
      "source": [
        "## <a name=\"HW1quest9a\">Question 9a:</a>\n",
        "---\n",
        "\n",
        "Find the critical values of $p$ (also called equilibrium) where $\\displaystyle \\frac{dp}{dt}=0$.\n",
        "\n"
      ]
    },
    {
      "cell_type": "markdown",
      "metadata": {
        "id": "95IPJmRO_Rll"
      },
      "source": [
        "### Solution to Question 9a:\n",
        "---\n",
        "\n",
        "<br><br><br><br>\n"
      ]
    },
    {
      "cell_type": "markdown",
      "metadata": {
        "id": "GIJRjhK-5Tud"
      },
      "source": [
        "## <a name=\"HW1quest9b\">Question 9b:</a>\n",
        "---\n",
        "\n",
        "If initially (at time $t=0$) the population is 1 thousand ($p=1$), to what value (if any) does the population $p$ approach as $t \\to \\infty$? Be sure to show or explain how you determined your answer.\n",
        "\n"
      ]
    },
    {
      "cell_type": "markdown",
      "metadata": {
        "id": "uUPJD5jR_SFD"
      },
      "source": [
        "### Solution to Question 9b:\n",
        "---\n",
        "\n",
        "<br><br><br><br>\n"
      ]
    },
    {
      "cell_type": "markdown",
      "metadata": {
        "id": "dSDls9WK5YW7"
      },
      "source": [
        "## <a name=\"HW1quest9c\">Question 9c:</a>\n",
        "---\n",
        "\n",
        "If initially (at time $t=0$) the population is 4 thousand ($p=4$), to what value (if any) does the population $p$ approach as $t \\to \\infty$? Be sure to show or explain how you determined your answer.\n"
      ]
    },
    {
      "cell_type": "markdown",
      "metadata": {
        "id": "8DVhb9MM_ShG"
      },
      "source": [
        "### Solution to Question 9c:\n",
        "---\n",
        "\n",
        "<br><br><br><br>\n"
      ]
    },
    {
      "cell_type": "markdown",
      "metadata": {
        "id": "D8G2jsKn5dqe"
      },
      "source": [
        "## <a name=\"HW1quest9d\">Question 9d:</a>\n",
        "---\n",
        "\n",
        "Based on your answers to the previous parts, draw a **phase line diagram** for the differential equation in [Question 9](#HW1quest9) for $t \\geq 0$. You may. assume the population $p(t) \\geq 0$.\n"
      ]
    },
    {
      "cell_type": "markdown",
      "metadata": {
        "id": "ILtk3PLj_pYF"
      },
      "source": [
        "\n",
        "### Solution to Question 9d:\n",
        "---\n",
        "\n",
        "<br>\n",
        "\n",
        "- You can sketch the graph on paper and hand it in separately in class.\n",
        "- You do not need to enter Python code to plot a phase line.\n",
        "- One nice property of phase lines is we can usually sketch them more quickly without technology!\n",
        "\n",
        "\n",
        "<br><br><br>\n"
      ]
    },
    {
      "cell_type": "markdown",
      "metadata": {
        "id": "vvsqFOe66IKa"
      },
      "source": [
        "## <a name=\"HW1quest9e\">Question 9e:</a>\n",
        "---\n",
        "\n",
        "Complete each of the three separate code cells below to use the `plot_sol()` to **sketch three different solutions that demonstrate different growth/decay patterns** that are possible with the population.\n",
        "\n",
        "- Be sure you have already [imported the slope field plotting functions](#HW1Import).\n",
        "- If you have not already imported `numpy`, then you will need to run the first code cell below.\n",
        "- If you have already imported `numpy`, you do not need to run the first code cell below again.\n",
        "\n"
      ]
    },
    {
      "cell_type": "markdown",
      "metadata": {
        "id": "uBDI3RuK6_Ly"
      },
      "source": [
        "### Solution to Question 9e:\n",
        "---\n",
        "\n",
        "<mark>Edit and run the code cells below to plot 3 different types of solutions. Each should demonstrate different population dynamics that are possible.</mark>"
      ]
    },
    {
      "cell_type": "code",
      "source": [
        "import numpy as np"
      ],
      "metadata": {
        "id": "3tFNPmrB6_L7"
      },
      "execution_count": null,
      "outputs": []
    },
    {
      "cell_type": "code",
      "execution_count": null,
      "metadata": {
        "id": "Bvi1x3ib6_L7"
      },
      "outputs": [],
      "source": [
        "# Define points where vectors will be plotted\n",
        "t = np.linspace(0, 5, 11)\n",
        "p = np.linspace(0, 5, 11)\n",
        "\n",
        "###########################################\n",
        "# STUDENT TO DO:\n",
        "# Replace the ?? in the code below\n",
        "# with an appropriate expression\n",
        "# Then run the code to get a slope field\n",
        "###########################################\n",
        "\n",
        "# Define the differential equation\n",
        "def diffeq(t, p):  # t is independent variable and p is dependent variable\n",
        "    return ??  # enter the formula for dp/dt\n"
      ]
    },
    {
      "cell_type": "code",
      "execution_count": null,
      "metadata": {
        "id": "1y0MHRQ88YiQ"
      },
      "outputs": [],
      "source": [
        "# Plot of solution 1:\n",
        "\n",
        "t0 = ??\n",
        "p0 = ??\n",
        "\n",
        "# Run the function to create a plot\n",
        "plot_sol(t, p, diffeq, t0, p0)"
      ]
    },
    {
      "cell_type": "code",
      "execution_count": null,
      "metadata": {
        "id": "zX3YUn2E7zhi"
      },
      "outputs": [],
      "source": [
        "# Plot of solution 2\n",
        "\n",
        "t0 = ??\n",
        "p0 = ??\n",
        "\n",
        "# Run the function to create a plot\n",
        "plot_sol(t, p, diffeq, t0, p0)"
      ]
    },
    {
      "cell_type": "code",
      "execution_count": null,
      "metadata": {
        "id": "qPWi1ixg8rRr"
      },
      "outputs": [],
      "source": [
        "# Plot of solution 3\n",
        "\n",
        "t0 = ??\n",
        "p0 = ??\n",
        "\n",
        "# Run the function to create a plot\n",
        "plot_sol(t, p, diffeq, t0, p0)"
      ]
    },
    {
      "cell_type": "markdown",
      "source": [
        "# <a name=\"save2\">Be Sure You Have Saved Your Work!</a>\n",
        "\n",
        "---\n",
        "\n",
        "This notebook is a shared Colab notebook available for anyone to view. However, since everyone is sharing this notebook, you do not have permission to save changes to this shared Colab notebook. In order to save your work:\n",
        "\n",
        "1. You will need to set up a free Google Drive account. If you already have a Google Drive account, you are ready to go!\n",
        "2. Click the `Copy to Drive` button to the right of the `+ Code` and `+ Text` buttons on top of the notebook.\n",
        "3. Select from the menu `File/Save a Copy in Drive`.\n",
        "  - By default, the notebook will be saved in a folder named **Colab Notebooks** in your Drive.\n",
        "  - Feel free to rename and store the notebook wherever you like.\n"
      ],
      "metadata": {
        "id": "iBmMPoh1CkEf"
      }
    }
  ],
  "metadata": {
    "colab": {
      "provenance": [],
      "include_colab_link": true
    },
    "kernelspec": {
      "display_name": "Python 3",
      "language": "python",
      "name": "python3"
    },
    "language_info": {
      "codemirror_mode": {
        "name": "ipython",
        "version": 3
      },
      "file_extension": ".py",
      "mimetype": "text/x-python",
      "name": "python",
      "nbconvert_exporter": "python",
      "pygments_lexer": "ipython3",
      "version": "3.8.8"
    }
  },
  "nbformat": 4,
  "nbformat_minor": 0
}